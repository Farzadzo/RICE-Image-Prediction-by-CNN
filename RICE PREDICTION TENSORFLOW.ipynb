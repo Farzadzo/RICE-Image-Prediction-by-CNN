{
 "cells": [
  {
   "cell_type": "code",
   "execution_count": 2,
   "id": "93813aae",
   "metadata": {},
   "outputs": [
    {
     "name": "stderr",
     "output_type": "stream",
     "text": [
      "2023-02-20 04:51:29.322023: I tensorflow/core/platform/cpu_feature_guard.cc:193] This TensorFlow binary is optimized with oneAPI Deep Neural Network Library (oneDNN) to use the following CPU instructions in performance-critical operations:  SSE4.1 SSE4.2\n",
      "To enable them in other operations, rebuild TensorFlow with the appropriate compiler flags.\n"
     ]
    }
   ],
   "source": [
    "import tensorflow as tf"
   ]
  },
  {
   "cell_type": "code",
   "execution_count": 3,
   "id": "4b8b15dd",
   "metadata": {},
   "outputs": [],
   "source": [
    "from tensorflow import keras"
   ]
  },
  {
   "cell_type": "code",
   "execution_count": 4,
   "id": "7923c973",
   "metadata": {},
   "outputs": [
    {
     "data": {
      "text/plain": [
       "'2.10.0'"
      ]
     },
     "execution_count": 4,
     "metadata": {},
     "output_type": "execute_result"
    }
   ],
   "source": [
    "tf.__version__"
   ]
  },
  {
   "cell_type": "code",
   "execution_count": 5,
   "id": "324c10ff",
   "metadata": {},
   "outputs": [
    {
     "name": "stdout",
     "output_type": "stream",
     "text": [
      "Found 54057 files belonging to 5 classes.\n"
     ]
    },
    {
     "name": "stderr",
     "output_type": "stream",
     "text": [
      "2023-02-20 04:51:35.655199: I tensorflow/core/platform/cpu_feature_guard.cc:193] This TensorFlow binary is optimized with oneAPI Deep Neural Network Library (oneDNN) to use the following CPU instructions in performance-critical operations:  SSE4.1 SSE4.2\n",
      "To enable them in other operations, rebuild TensorFlow with the appropriate compiler flags.\n"
     ]
    },
    {
     "name": "stdout",
     "output_type": "stream",
     "text": [
      "Found 3476 files belonging to 5 classes.\n",
      "Found 393 files belonging to 5 classes.\n"
     ]
    }
   ],
   "source": [
    "Train = keras.utils.image_dataset_from_directory(\n",
    "    directory='train/',\n",
    "    labels='inferred' ,\n",
    "    label_mode='categorical',\n",
    "    batch_size=32,\n",
    "    image_size=(250,250))\n",
    "Test = keras.utils.image_dataset_from_directory(\n",
    "    directory='test/',\n",
    "    labels='inferred' ,\n",
    "    label_mode='categorical',\n",
    "    batch_size=32,\n",
    "    image_size=(250,250))\n",
    "Validation = keras.utils.image_dataset_from_directory(\n",
    "    directory='validation/',\n",
    "    labels='inferred' ,\n",
    "    label_mode='categorical',\n",
    "    batch_size=32,\n",
    "    image_size=(250,250))"
   ]
  },
  {
   "cell_type": "code",
   "execution_count": 6,
   "id": "a72ee14e",
   "metadata": {},
   "outputs": [
    {
     "name": "stdout",
     "output_type": "stream",
     "text": [
      "['Arborio', 'Basmati', 'Ipsala', 'Jasmine', 'Karacadag']\n",
      "['Arborio', 'Basmati', 'Ipsala', 'Jasmine', 'Karacadag']\n",
      "['Arborio', 'Basmati', 'Ipsala', 'Jasmine', 'Karacadag']\n"
     ]
    }
   ],
   "source": [
    "print(Train.class_names)\n",
    "print(Test.class_names)\n",
    "print(Validation.class_names)"
   ]
  },
  {
   "cell_type": "markdown",
   "id": "654d36c9",
   "metadata": {},
   "source": [
    "# create cnn"
   ]
  },
  {
   "cell_type": "code",
   "execution_count": 7,
   "id": "b8aac6ef",
   "metadata": {},
   "outputs": [],
   "source": [
    "CNN = tf.keras.models.Sequential()"
   ]
  },
  {
   "cell_type": "markdown",
   "id": "accfdb3a",
   "metadata": {},
   "source": [
    "# step 1 convolution"
   ]
  },
  {
   "cell_type": "code",
   "execution_count": 8,
   "id": "5714bc9d",
   "metadata": {},
   "outputs": [],
   "source": [
    "CNN.add(tf.keras.layers.Conv2D(filters=32,kernel_size=3,activation='relu',input_shape=[250,250,3]))"
   ]
  },
  {
   "cell_type": "markdown",
   "id": "aa933f8e",
   "metadata": {},
   "source": [
    "# step 2 Pooling"
   ]
  },
  {
   "cell_type": "code",
   "execution_count": 9,
   "id": "3c351a4a",
   "metadata": {},
   "outputs": [],
   "source": [
    "CNN.add(tf.keras.layers.MaxPool2D(pool_size=2,strides=2))"
   ]
  },
  {
   "cell_type": "markdown",
   "id": "823f655e",
   "metadata": {},
   "source": [
    "# step 3 add another conV layer , if we want"
   ]
  },
  {
   "cell_type": "markdown",
   "id": "0cc63801",
   "metadata": {},
   "source": [
    "# step 4 Flattening"
   ]
  },
  {
   "cell_type": "code",
   "execution_count": 10,
   "id": "42649b4b",
   "metadata": {},
   "outputs": [],
   "source": [
    "CNN.add(tf.keras.layers.Flatten())"
   ]
  },
  {
   "cell_type": "markdown",
   "id": "cef57131",
   "metadata": {},
   "source": [
    "# step 5 Full connection"
   ]
  },
  {
   "cell_type": "code",
   "execution_count": 11,
   "id": "29c09c9b",
   "metadata": {},
   "outputs": [],
   "source": [
    "CNN.add(tf.keras.layers.Dense(units=500,activation='relu'))"
   ]
  },
  {
   "cell_type": "markdown",
   "id": "35efaddb",
   "metadata": {},
   "source": [
    "# step 6 output layer"
   ]
  },
  {
   "cell_type": "code",
   "execution_count": 12,
   "id": "b7090412",
   "metadata": {},
   "outputs": [],
   "source": [
    "CNN.add(tf.keras.layers.Dense(units=5,activation='sigmoid'))  # unit= 5 because of the number of classes"
   ]
  },
  {
   "cell_type": "code",
   "execution_count": null,
   "id": "93197756",
   "metadata": {},
   "outputs": [],
   "source": []
  },
  {
   "cell_type": "markdown",
   "id": "4ae51fab",
   "metadata": {},
   "source": [
    "# Next part"
   ]
  },
  {
   "cell_type": "markdown",
   "id": "db7dbbcd",
   "metadata": {},
   "source": [
    "# Training the CNN"
   ]
  },
  {
   "cell_type": "code",
   "execution_count": 13,
   "id": "f4f923f4",
   "metadata": {},
   "outputs": [],
   "source": [
    "CNN.compile(optimizer='adam',loss='binary_crossentropy',metrics=['accuracy'])"
   ]
  },
  {
   "cell_type": "code",
   "execution_count": 13,
   "id": "eaec25fc",
   "metadata": {},
   "outputs": [
    {
     "name": "stdout",
     "output_type": "stream",
     "text": [
      "Epoch 1/2\n",
      "1690/1690 [==============================] - 2795s 2s/step - loss: 8.1597 - accuracy: 0.9530 - val_loss: 0.2170 - val_accuracy: 0.9796\n",
      "Epoch 2/2\n",
      "1690/1690 [==============================] - 2738s 2s/step - loss: 0.0740 - accuracy: 0.9876 - val_loss: 0.1402 - val_accuracy: 0.9796\n"
     ]
    },
    {
     "data": {
      "text/plain": [
       "<keras.callbacks.History at 0x7fd7c0330580>"
      ]
     },
     "execution_count": 13,
     "metadata": {},
     "output_type": "execute_result"
    }
   ],
   "source": [
    "CNN.fit(x=Train,validation_data=Validation,epochs=2)"
   ]
  },
  {
   "cell_type": "markdown",
   "id": "e96cef4b",
   "metadata": {},
   "source": [
    "# let evaluate with real data"
   ]
  },
  {
   "cell_type": "code",
   "execution_count": 19,
   "id": "a4de04c3",
   "metadata": {},
   "outputs": [],
   "source": [
    "import numpy as np\n",
    "test_image = tf.keras.utils.load_img('test/Karacadag/Karacadag (109).jpg',target_size=(250,250))"
   ]
  },
  {
   "cell_type": "code",
   "execution_count": null,
   "id": "3a0e3584",
   "metadata": {},
   "outputs": [],
   "source": []
  },
  {
   "cell_type": "code",
   "execution_count": 20,
   "id": "d82186f3",
   "metadata": {},
   "outputs": [
    {
     "data": {
      "text/plain": [
       "(250, 250)"
      ]
     },
     "execution_count": 20,
     "metadata": {},
     "output_type": "execute_result"
    }
   ],
   "source": [
    "test_image.size"
   ]
  },
  {
   "cell_type": "code",
   "execution_count": 21,
   "id": "5f84c611",
   "metadata": {},
   "outputs": [
    {
     "name": "stdout",
     "output_type": "stream",
     "text": [
      "1/1 [==============================] - 0s 71ms/step\n"
     ]
    }
   ],
   "source": [
    "test_image = tf.keras.utils.img_to_array(test_image)\n",
    "test_image = np.expand_dims(test_image,axis=0)\n",
    "Result =CNN.predict(test_image)"
   ]
  },
  {
   "cell_type": "code",
   "execution_count": 22,
   "id": "85f38537",
   "metadata": {},
   "outputs": [
    {
     "name": "stdout",
     "output_type": "stream",
     "text": [
      "[[8.7461149e-15 0.0000000e+00 0.0000000e+00 1.8605246e-35 1.0000000e+00]]\n"
     ]
    }
   ],
   "source": [
    "print(Result)"
   ]
  },
  {
   "cell_type": "code",
   "execution_count": 56,
   "id": "1a13076e",
   "metadata": {},
   "outputs": [
    {
     "name": "stdout",
     "output_type": "stream",
     "text": [
      "Requirement already satisfied: h5py in /Users/farzad/opt/anaconda3/lib/python3.9/site-packages (3.7.0)\n",
      "Requirement already satisfied: numpy>=1.14.5 in /Users/farzad/opt/anaconda3/lib/python3.9/site-packages (from h5py) (1.24.1)\n"
     ]
    }
   ],
   "source": [
    "!pip install h5py"
   ]
  },
  {
   "cell_type": "code",
   "execution_count": 57,
   "id": "77833d4c",
   "metadata": {},
   "outputs": [],
   "source": [
    "# serialize model to JSON\n",
    "model_json = CNN.to_json()\n",
    "with open(\"model.json\", \"w\") as json_file:\n",
    "    json_file.write(model_json)\n"
   ]
  },
  {
   "cell_type": "code",
   "execution_count": 59,
   "id": "f179a8e6",
   "metadata": {},
   "outputs": [
    {
     "name": "stdout",
     "output_type": "stream",
     "text": [
      "Saved model to disk\n"
     ]
    }
   ],
   "source": [
    "# serialize weights to HDF5\n",
    "CNN.save_weights(\"model.h5\")\n",
    "print(\"Saved model to disk\")"
   ]
  },
  {
   "cell_type": "code",
   "execution_count": 14,
   "id": "750449c9",
   "metadata": {},
   "outputs": [
    {
     "name": "stdout",
     "output_type": "stream",
     "text": [
      "Loaded model from disk\n"
     ]
    }
   ],
   "source": [
    "# load weights into new model\n",
    "CNN.load_weights(\"model.h5\")\n",
    "print(\"Loaded model from disk\")"
   ]
  },
  {
   "cell_type": "code",
   "execution_count": null,
   "id": "84c3c8d3",
   "metadata": {},
   "outputs": [],
   "source": []
  },
  {
   "cell_type": "code",
   "execution_count": null,
   "id": "1bcdb609",
   "metadata": {},
   "outputs": [],
   "source": []
  }
 ],
 "metadata": {
  "kernelspec": {
   "display_name": "Python 3 (ipykernel)",
   "language": "python",
   "name": "python3"
  },
  "language_info": {
   "codemirror_mode": {
    "name": "ipython",
    "version": 3
   },
   "file_extension": ".py",
   "mimetype": "text/x-python",
   "name": "python",
   "nbconvert_exporter": "python",
   "pygments_lexer": "ipython3",
   "version": "3.9.13"
  }
 },
 "nbformat": 4,
 "nbformat_minor": 5
}
